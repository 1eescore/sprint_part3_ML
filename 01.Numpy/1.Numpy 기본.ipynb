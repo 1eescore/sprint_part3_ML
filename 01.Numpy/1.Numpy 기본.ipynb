{
 "cells": [
  {
   "cell_type": "markdown",
   "metadata": {},
   "source": [
    "## 1. Numpy 소개\n",
    "\n",
    "#### NumPy란 무엇인가?\n",
    "- NumPy는 \"Numerical Python\"의 약자로, 파이썬에서 대규모 다차원 배열과 행렬을 효율적으로 처리할 수 있도록 해주는 라이브러리\n",
    "- 행렬, 선형대수, 스칼라, 벡터 등 다양한 수학적 개념들을 다룰 수 있는 기능들을 제공\n",
    "- 고성능 과학연산을 위한 패키지로 파이썬을 통해 과학 계산, 데이터 분석, 머신러닝 등을 하고자 할 때 필수적으로 사용되는 라이브러리\n",
    "\n",
    "#### NumPy 설치 방법\n",
    "- NumPy는 pip를 사용하여 설치할 수 있습니다.\n",
    "> pip install numpy"
   ]
  },
  {
   "cell_type": "markdown",
   "metadata": {},
   "source": [
    "#### 넘파이에서 데이터 구조\n",
    "\n",
    "<img src=\"https://velog.velcdn.com/images/newnew_daddy/post/7f9d0d49-052e-47d0-81d8-7deb03f60812/image.png\" width=\"40%\">\n",
    "\n",
    "- **스칼라 (Scalar)**\n",
    "    - 하나의 숫자로 이루어진 데이터\n",
    "- **벡터 (Vector)**\n",
    "    - 여러개의 숫자들을 특정한 순서대로 모아놓은 데이터 모음(데이터 레코드)\n",
    "    - 1D Array (1차원 배열)\n",
    "- **행렬 (Matrix)**\n",
    "    - 벡터들을 모아놓은 데이터 집합\n",
    "    - 2D Array (2차원 배열)\n",
    "- **텐서 (Tensor)**\n",
    "    - 같은 크기의 행렬들(텐서들)을 모아놓은 데이터 집합\n",
    "    - ND Array (N-Dimensional Array)"
   ]
  },
  {
   "cell_type": "markdown",
   "metadata": {},
   "source": [
    "## 2. Numpy 기본 사용법"
   ]
  },
  {
   "cell_type": "markdown",
   "metadata": {},
   "source": [
    "### 2-1. Numpy 배열 생성"
   ]
  },
  {
   "cell_type": "markdown",
   "metadata": {},
   "source": [
    "- **np.array()**: 파이썬 리스트나 튜플을 배열로 변환합니다.\n",
    "- **np.arange()**: 지정한 간격으로 숫자 배열을 생성합니다.\n",
    "- **np.linspace()**: 지정한 구간을 균등한 간격으로 나눈 배열을 생성합니다.\n",
    "- **np.logspace()**: linspace()로 나뉜 간격을 10의 지수로 사용"
   ]
  },
  {
   "cell_type": "code",
   "execution_count": null,
   "metadata": {},
   "outputs": [],
   "source": []
  },
  {
   "cell_type": "markdown",
   "metadata": {},
   "source": [
    "### 2-2. Numpy의 데이터 타입\n",
    "<img src=\"https://velog.velcdn.com/images/newnew_daddy/post/f83a3ba6-f8d0-44a1-80de-fa28588d20df/image.png\" width=\"60%\">\n",
    "\n",
    "- ndarray 는 같은 타입의 데이터만 모아서 관리한다.\n",
    "- 배열 생성시 dtype 속성을 이용해 데이터 타입 설정 가능\n",
    "- ndarray.dtype 속성을 이용해 조회\n",
    "- ndarray.astype(데이터타입)\n",
    "    - 데이터타입 변환하는 메소드\n",
    "    - 변환한 새로운 ndarray객체를 반환"
   ]
  },
  {
   "cell_type": "code",
   "execution_count": null,
   "metadata": {},
   "outputs": [],
   "source": []
  },
  {
   "cell_type": "markdown",
   "metadata": {},
   "source": [
    "#### 배열의 속성\n",
    "- 축 (axis) \n",
    "    - 특정 차원을 나타내는 인덱스\n",
    "      - `axis = 0` -> 행(세로 축)\n",
    "      - `axis = 1` -> 열(가로 축)\n",
    "- 랭크(rank) \n",
    "    - 배열이 몇 차원인지 나타내는 개념\n",
    "- 형태/형상(shape)\n",
    "    - 배열의 각 차원에서의 크기. 즉, 각 축(axis) 별 데이터의 개수이며 튜플로 표현된다.\n",
    "- 크기(size) \n",
    "    - 배열에 있는 모든 원소의 개수. 즉, shape의 각 요소들을 모두 곱한 값\n",
    "\n",
    "<img src=\"https://velog.velcdn.com/images/newnew_daddy/post/5d3678c2-4e10-4797-9eab-d7e831fc7cd4/image.png\" width=\"40%\">\n",
    "\n",
    "[출처: https://www.oreilly.com/library/view/elegant-scipy/9781491922927/ch01.html ]"
   ]
  },
  {
   "cell_type": "code",
   "execution_count": null,
   "metadata": {},
   "outputs": [],
   "source": []
  },
  {
   "cell_type": "markdown",
   "metadata": {},
   "source": [
    "### 2-2. 배열 초기화"
   ]
  },
  {
   "cell_type": "markdown",
   "metadata": {},
   "source": [
    "- **np.zeros()**: 모든 요소가 0인 배열을 생성합니다.\n",
    "- **np.ones()**: 모든 요소가 1인 배열을 생성합니다.\n",
    "- **np.full()**: 모든 요소가 지정한 값인 배열을 생성합니다.\n",
    "- **np.empty()**: 초기화되지 않은 배열을 생성합니다.\n",
    "- **np.eye()**: 단위 행렬을 생성합니다."
   ]
  },
  {
   "cell_type": "code",
   "execution_count": null,
   "metadata": {},
   "outputs": [],
   "source": []
  },
  {
   "cell_type": "markdown",
   "metadata": {},
   "source": [
    "- **np.random.rand()**: 0과 1 사이의 균등 분포에서 난수를 생성합니다.\n",
    "- **np.random.randint()**: 지정한 범위 내의 정수를 생성합니다.\n",
    "- **np.random.randn()**: 표준 정규 분포에서 난수를 생성합니다."
   ]
  },
  {
   "cell_type": "code",
   "execution_count": null,
   "metadata": {},
   "outputs": [],
   "source": []
  }
 ],
 "metadata": {
  "kernelspec": {
   "display_name": "lecture",
   "language": "python",
   "name": "python3"
  },
  "language_info": {
   "codemirror_mode": {
    "name": "ipython",
    "version": 3
   },
   "file_extension": ".py",
   "mimetype": "text/x-python",
   "name": "python",
   "nbconvert_exporter": "python",
   "pygments_lexer": "ipython3",
   "version": "3.10.4"
  }
 },
 "nbformat": 4,
 "nbformat_minor": 2
}
