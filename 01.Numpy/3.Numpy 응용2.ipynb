{
 "cells": [
  {
   "cell_type": "markdown",
   "metadata": {},
   "source": [
    "## 6. 선형대수"
   ]
  },
  {
   "cell_type": "markdown",
   "metadata": {},
   "source": [
    "### 6-1. 선형대수 함수\n",
    "- np.dot()\n",
    "- np.transpose()\n",
    "- np.linalg.inv()\n",
    "- np.linalg.det()\n",
    "- np.linalg.eig() -> https://6mini.github.io/did%20unknown/2021/08/14/didunk6/"
   ]
  },
  {
   "cell_type": "markdown",
   "metadata": {},
   "source": [
    "#### 내적연산(dot product)\n",
    "\n",
    "- `@` 연산자 또는 `numpy.dot(벡터/행렬, 벡터/행렬)`  함수 사용\n",
    "- 벡터간의 내적\n",
    "    - 같은 index의 원소끼리 곱한뒤 결과를 모두 더한다.\n",
    "    - 벡터간의 내적의 결과는 스칼라가 된다.\n",
    "    - $ x \\cdot y $ 또는 $x^T y$로 표현\n",
    "    - 조건\n",
    "        - 두 벡터의 차원(원소의개수)가 같아야 한다.\n",
    "        - 앞의 벡터는 행벡터 뒤의 벡터는 열벡터 이어야 한다.\n",
    "            - numpy 에서는 vector 끼리 연산시 앞의 벡터는 행벡터로 뒤의 벡터는 열벡터로 인식해 처리한다.\n",
    "\n",
    "$$\n",
    "\\begin{align}\n",
    "x =\n",
    "\\begin{bmatrix}\n",
    "1 \\\\ 2 \\\\ 3 \\\\\n",
    "\\end{bmatrix}\n",
    ",\\;\\;\\;\n",
    "y = \n",
    "\\begin{bmatrix}\n",
    "4 \\\\ 5 \\\\ 6 \\\\\n",
    "\\end{bmatrix} \n",
    "\\end{align}\n",
    "$$\n",
    "\n",
    "$$\n",
    "\\begin{align}\n",
    "x^T y = \n",
    "\\begin{bmatrix}\n",
    "1 & 2 & 3\n",
    "\\end{bmatrix}\n",
    "\\begin{bmatrix}\n",
    "4 \\\\ 5 \\\\ 6 \\\\\n",
    "\\end{bmatrix} \n",
    "= 1 \\times 4 + 2 \\times 5 + 3 \\times 6 = 32\n",
    "\\end{align}\n",
    "$$\n",
    "\n",
    "#### 내적연산의 조건\n",
    "- 앞 행렬의 행과 뒤 행렬의 열간에 내적을 한다.\n",
    "- 행렬과 행렬을 내적하면 그 결과는 행렬이 된다.\n",
    "- 앞 행렬의 열수와 뒤 행렬의 행수가 같아야 한다.\n",
    "- 내적의 결과의 형태(shape)는 앞행렬의 행수와 뒤 행렬의 열의 형태를 가진다.\n",
    "    - (3 x 2)와 (2 x 5) = (3 x 5)\n",
    "    - (1 x 5)와 (5 x 1) = (1 x 1)    \n",
    "\n",
    "$$\n",
    "\\begin{align}\n",
    "A = \\begin{bmatrix} 1 & 2 & 3 \\\\ 4 & 5 & 6 \\end{bmatrix}\n",
    "\\end{align}\n",
    "$$\n",
    "\n",
    "$$\n",
    "\\begin{align}\n",
    "B = \\begin{bmatrix} 1 & 2 \\\\ 3 & 4 \\\\ 5 & 6 \\end{bmatrix}\n",
    "\\end{align}\n",
    "$$\n",
    "\n",
    "$$\n",
    "\\begin{align}\n",
    "A\\cdot B = \\begin{bmatrix} 1\\times 1 + 2\\times 3 + 3 \\times 5 & 1\\times 2 + 2\\times 4 + 3 \\times 6  \\\\ 4\\times 1 + 5\\times 3 + 6 \\times 5  & 4\\times 2 + 5\\times 4 + 6 \\times 6  \\end{bmatrix} = \n",
    "\\begin{bmatrix} 22 & 28 \\\\ 49 & 64 \\end{bmatrix}\n",
    "\\end{align}\n",
    "$$"
   ]
  },
  {
   "cell_type": "markdown",
   "metadata": {},
   "source": [
    "#### 행렬의 내적"
   ]
  },
  {
   "cell_type": "code",
   "execution_count": null,
   "metadata": {},
   "outputs": [],
   "source": []
  },
  {
   "cell_type": "markdown",
   "metadata": {},
   "source": [
    "#### 전치 행렬"
   ]
  },
  {
   "cell_type": "code",
   "execution_count": null,
   "metadata": {},
   "outputs": [],
   "source": []
  },
  {
   "cell_type": "markdown",
   "metadata": {},
   "source": [
    "#### 역행렬"
   ]
  },
  {
   "cell_type": "code",
   "execution_count": null,
   "metadata": {},
   "outputs": [],
   "source": []
  },
  {
   "cell_type": "markdown",
   "metadata": {},
   "source": [
    "#### 역행렬 (Inverse Matrix)\n",
    "- 주어진 정사각 행렬에 대해, 해당 행렬과 곱했을 때 단위행렬(identity matrix)을 반환하는 행렬\n",
    "\n",
    "#### 고유값 (Eigenvalue)\n",
    "- 행렬이 고유벡터를 변환할 때 그 고유벡터의 크기를 얼마나 스케일링하는지를 나타내는 상수입니다.\n",
    "\n",
    "#### 고유벡터 (Eigenvector)\n",
    "- 행렬에 의해 변환되었을 때 그 방향이 변하지 않고, 크기만 고유값에 의해 조정되는 벡터입니다.\n",
    "\n",
    "<img src=\"https://velog.velcdn.com/images/newnew_daddy/post/5d738a31-6574-438f-9be5-fa998b3c2873/image.png\" width='60%'>"
   ]
  },
  {
   "cell_type": "code",
   "execution_count": null,
   "metadata": {},
   "outputs": [],
   "source": []
  },
  {
   "cell_type": "code",
   "execution_count": null,
   "metadata": {},
   "outputs": [],
   "source": []
  },
  {
   "cell_type": "markdown",
   "metadata": {},
   "source": [
    "## 7. 배열 저장 및 불러오기"
   ]
  },
  {
   "cell_type": "markdown",
   "metadata": {},
   "source": [
    "### 7-1. 바이너리 파일로 저장/읽기\n",
    "- **np.save(\"파일경로\", 배열)**\n",
    "    - 배열을 raw 바이너리 형식으로 저장한다. (압축하지 않은)\n",
    "    - 파일명에 확장자로 npy를 붙인다. (무조건 붙인다. abc.xxx 해도 abc.xxx.npy 로 저장)\n",
    "- **np.load(\"파일경로\")**\n",
    "    - 파일에 저장된 배열을 불러온다.\n",
    "- **np.savez(\"파일경로\", 이름=배열, 이름=배열, ...)**\n",
    "    - 여러개의 배열을 저장할 때 사용\n",
    "    - 파일명에 확장자로 npz가 붙는다.\n",
    "    - 내부적으로 압축해서 저장한다.\n",
    "    - load() 함수로 불러오면 저장된 배열목록이 반환 된다. 저장시 지정한 이름을 이용해 조회 "
   ]
  },
  {
   "cell_type": "code",
   "execution_count": null,
   "metadata": {},
   "outputs": [],
   "source": []
  },
  {
   "cell_type": "code",
   "execution_count": null,
   "metadata": {},
   "outputs": [],
   "source": []
  },
  {
   "cell_type": "markdown",
   "metadata": {},
   "source": [
    "### 7-2. 텍스트 파일로 저장/읽기\n",
    "- **savetxt(\"파일경로\", 배열 , delimiter='공백')**\n",
    "  - 텍스트 형태로 저장.\n",
    "  - 각 원소는 공백을 기준으로 나뉘며 delimiter 속성으로 구분자를 지정할 수 있다. (delimiter생략시 공백)\n",
    "  - 1차원과 2차원 배열만 저장 가능하다. (3차원 이상은 저장이 안된다.)\n",
    "- **loadtxt(\"파일경로\" ,dtype=float, comments='', delimiter=공백)**"
   ]
  },
  {
   "cell_type": "code",
   "execution_count": null,
   "metadata": {},
   "outputs": [],
   "source": []
  },
  {
   "cell_type": "code",
   "execution_count": null,
   "metadata": {},
   "outputs": [],
   "source": []
  }
 ],
 "metadata": {
  "kernelspec": {
   "display_name": "lecture",
   "language": "python",
   "name": "python3"
  },
  "language_info": {
   "codemirror_mode": {
    "name": "ipython",
    "version": 3
   },
   "file_extension": ".py",
   "mimetype": "text/x-python",
   "name": "python",
   "nbconvert_exporter": "python",
   "pygments_lexer": "ipython3",
   "version": "3.12.4"
  }
 },
 "nbformat": 4,
 "nbformat_minor": 2
}
