{
 "cells": [
  {
   "cell_type": "markdown",
   "metadata": {},
   "source": [
    "## 3. 배열 조작"
   ]
  },
  {
   "cell_type": "markdown",
   "metadata": {},
   "source": [
    "### 3-1. 배열 인덱싱 및 슬라이싱"
   ]
  },
  {
   "cell_type": "code",
   "execution_count": null,
   "metadata": {},
   "outputs": [],
   "source": []
  },
  {
   "cell_type": "markdown",
   "metadata": {},
   "source": [
    "### 3-2. 배열 형상 변경\n",
    "\n",
    "- **np.reshape()**: 배열의 형상을 변경합니다.\n",
    "- **np.resize()**: 배열의 크기를 변경합니다.\n",
    "- **np.ravel()**: 다차원 배열을 1차원으로 펼칩니다.\n",
    "- **np.flatten()**: 다차원 배열을 1차원으로 펼칩니다.\n",
    "- **np.append()**: 배열에 요소를 추가합니다.\n",
    "- **np.insert()**: 배열의 지정한 위치에 요소를 삽입합니다.\n",
    "- **np.delete()**: 배열의 요소를 삭제합니다."
   ]
  },
  {
   "cell_type": "code",
   "execution_count": null,
   "metadata": {},
   "outputs": [],
   "source": []
  },
  {
   "cell_type": "markdown",
   "metadata": {},
   "source": [
    "### 3-3. 배열 결합 및 분할\n",
    "\n",
    "- **np.concatenate()**: 두 배열을 결합합니다.\n",
    "- **np.stack()**: 두 배열을 새로운 축으로 결합합니다.\n",
    "- **np.hstack()**: 두 배열을 수평으로 결합합니다.\n",
    "- **np.vstack()**: 두 배열을 수직으로 결합합니다.\n",
    "- **np.split()**: 배열을 분할합니다.\n",
    "- **np.hsplit()**: 배열을 수평으로 분할합니다.\n",
    "- **np.vsplit()**: 배열을 수직으로 분할합니다."
   ]
  },
  {
   "cell_type": "code",
   "execution_count": null,
   "metadata": {},
   "outputs": [],
   "source": []
  },
  {
   "cell_type": "code",
   "execution_count": null,
   "metadata": {},
   "outputs": [],
   "source": []
  },
  {
   "cell_type": "markdown",
   "metadata": {},
   "source": [
    "## 4. 배열 연산"
   ]
  },
  {
   "cell_type": "markdown",
   "metadata": {},
   "source": [
    "### 4-1. 기본연산"
   ]
  },
  {
   "cell_type": "markdown",
   "metadata": {},
   "source": [
    "### 스칼라 + 벡터 연산\n",
    "\n",
    "$$\n",
    "\\begin{align}\n",
    "x=\n",
    "\\begin{bmatrix}\n",
    "1 \\\\\n",
    "2 \\\\\n",
    "3 \\\\\n",
    "\\end{bmatrix}\n",
    "\\end{align}\n",
    "$$\n",
    "\n",
    "$$\n",
    "\\begin{align}\n",
    "10 - x = 10 -\n",
    "\\begin{bmatrix}\n",
    "1 \\\\\n",
    "2 \\\\\n",
    "3 \\\\\n",
    "\\end{bmatrix}\n",
    "=\n",
    "\\begin{bmatrix}\n",
    "10 - 1 \\\\\n",
    "10 - 2 \\\\\n",
    "10 - 3 \\\\\n",
    "\\end{bmatrix}\n",
    "=\n",
    "\\begin{bmatrix}\n",
    "9 \\\\\n",
    "8 \\\\\n",
    "7 \\\\\n",
    "\\end{bmatrix}\n",
    "\\end{align}\n",
    "$$\n",
    "\n",
    "$$\n",
    "\\begin{align}\n",
    "10 \\times\n",
    "\\begin{bmatrix}\n",
    "1 & 2 \\\\\n",
    "3 & 4\n",
    "\\end{bmatrix}\n",
    "=\n",
    "\\begin{bmatrix}\n",
    "10\\times1 & 10\\times2 \\\\\n",
    "10\\times3 & 10\\times4 \\\\\n",
    "\\end{bmatrix}\n",
    "=\n",
    "\\begin{bmatrix}\n",
    "10 & 20 \\\\\n",
    "30 & 40\n",
    "\\end{bmatrix}\n",
    "\\end{align}\n",
    "$$"
   ]
  },
  {
   "cell_type": "code",
   "execution_count": null,
   "metadata": {},
   "outputs": [],
   "source": []
  },
  {
   "cell_type": "code",
   "execution_count": null,
   "metadata": {},
   "outputs": [],
   "source": []
  },
  {
   "cell_type": "markdown",
   "metadata": {},
   "source": [
    "### 벡터 + 벡터 연산\n",
    "\n",
    "$$\n",
    "\\begin{align}\n",
    "\\begin{bmatrix}\n",
    "1 \\\\\n",
    "2 \\\\\n",
    "3 \\\\\n",
    "\\end{bmatrix}\n",
    "+\n",
    "\\begin{bmatrix}\n",
    "10 \\\\\n",
    "20 \\\\\n",
    "30 \\\\\n",
    "\\end{bmatrix}\n",
    "=\n",
    "\\begin{bmatrix}\n",
    "1 + 10 \\\\\n",
    "2 + 20 \\\\\n",
    "3 + 30 \\\\\n",
    "\\end{bmatrix}\n",
    "=\n",
    "\\begin{bmatrix}\n",
    "11 \\\\\n",
    "22 \\\\\n",
    "33 \\\\\n",
    "\\end{bmatrix}\n",
    "\\end{align}\n",
    "$$\n",
    "\n",
    "$$\n",
    "\\begin{align}\n",
    "\\begin{bmatrix}\n",
    "1 \\\\\n",
    "2 \\\\\n",
    "3 \\\\\n",
    "\\end{bmatrix}\n",
    "-\n",
    "\\begin{bmatrix}\n",
    "10 \\\\\n",
    "20 \\\\\n",
    "30 \\\\\n",
    "\\end{bmatrix}\n",
    "=\n",
    "\\begin{bmatrix}\n",
    "1 - 10 \\\\\n",
    "2 - 20 \\\\\n",
    "3 - 30 \\\\\n",
    "\\end{bmatrix}\n",
    "=\n",
    "\\begin{bmatrix}\n",
    "-9 \\\\\n",
    "-18 \\\\\n",
    "-27 \\\\\n",
    "\\end{bmatrix}\n",
    "\\end{align}\n",
    "$$\n",
    "\n",
    "$$\n",
    "\\begin{align}\n",
    "\\begin{bmatrix}\n",
    "1 & 2 \\\\\n",
    "3 & 4\n",
    "\\end{bmatrix}\n",
    "+\n",
    "\\begin{bmatrix}\n",
    "10 & 20 \\\\\n",
    "30 & 40 \\\\\n",
    "\\end{bmatrix}\n",
    "=\n",
    "\\begin{bmatrix}\n",
    "1+10 & 2+20 \\\\\n",
    "3+30 & 4+40\n",
    "\\end{bmatrix}\n",
    "\\end{align}\n",
    "$$"
   ]
  },
  {
   "cell_type": "markdown",
   "metadata": {},
   "source": [
    "### 4-2. 범용 함수\n",
    "#### 단항 범용 함수\n",
    "- 매개변수로 한개의 배열을 받는다.\n",
    "- 한 배열내의 원소별로 연산\n",
    "\n",
    "<img src=\"https://velog.velcdn.com/images/newnew_daddy/post/fa89baf0-554f-4599-82af-27c17b260b61/image.png\" width=\"40%\">"
   ]
  },
  {
   "cell_type": "code",
   "execution_count": null,
   "metadata": {},
   "outputs": [],
   "source": []
  },
  {
   "cell_type": "code",
   "execution_count": null,
   "metadata": {},
   "outputs": [],
   "source": []
  },
  {
   "cell_type": "markdown",
   "metadata": {},
   "source": [
    "#### 이항 범용 함수\n",
    "- 매개변수로 두개의 배열을 받는다.\n",
    "- 두 배열의 같은 index 원소별로 연산\n",
    "\n",
    "<img src=\"https://velog.velcdn.com/images/newnew_daddy/post/f9617af4-f6ac-44da-a9fd-a979703189ab/image.png\" width=\"40%\">"
   ]
  },
  {
   "cell_type": "code",
   "execution_count": null,
   "metadata": {},
   "outputs": [],
   "source": []
  },
  {
   "cell_type": "code",
   "execution_count": null,
   "metadata": {},
   "outputs": [],
   "source": []
  },
  {
   "cell_type": "code",
   "execution_count": null,
   "metadata": {},
   "outputs": [],
   "source": []
  },
  {
   "cell_type": "markdown",
   "metadata": {},
   "source": [
    "#### 기술통계함수\n",
    "- 통계 결과를 계산해 주는 함수들\n",
    "        \n",
    "<img src=\"https://velog.velcdn.com/images/newnew_daddy/post/35351b19-db7d-4915-9e97-49db02655357/image.png\" width=\"40%\">\n",
    "\n",
    "- https://docs.scipy.org/doc/numpy-1.15.1/reference/routines.statistics.html"
   ]
  },
  {
   "cell_type": "markdown",
   "metadata": {},
   "source": [
    "- Quantile(분위수) -> np.quantile(행렬, 분위수(0~1사이))\n",
    "    >Quantile이란 주어진 데이터를 동등한 크기로 분할하는 지점을 말합니다. 예를 들어, 시험을 치고 상위 10%에 속하는지를 확인하고 싶다면 점수 데이터를 정렬한 뒤 데이터의 수를 10개의 동등한 크기, 즉 각 그룹이 같은 데이터 수를 보유하도로 분할하면 됩니다.\n",
    "\n",
    "<img src=\"https://velog.velcdn.com/images/newnew_daddy/post/cf1af72c-c72a-45d1-b23f-096946755530/image.png\" width=\"40%\">\n",
    "\n",
    "- Percentile(백분위수) -> np.percentile(행렬, 0~100)\n",
    "    >Percentile은 데이터를 100등분하는 지점을 말합니다. 보통 흔히 상위 몇%라고 말할때 주로 사용하는게 바로 이 percentile입니다."
   ]
  },
  {
   "cell_type": "code",
   "execution_count": null,
   "metadata": {},
   "outputs": [],
   "source": []
  },
  {
   "cell_type": "code",
   "execution_count": null,
   "metadata": {},
   "outputs": [],
   "source": []
  },
  {
   "cell_type": "markdown",
   "metadata": {},
   "source": [
    "### 4-2. 브로드캐스팅\n",
    "<img src=\"https://velog.velcdn.com/images/newnew_daddy/post/30555f79-aaf7-46bf-97a4-227d7e34c81a/image.png\" width=\"60%\">\n",
    "<img src=\"https://velog.velcdn.com/images/newnew_daddy/post/86b08b01-7b78-4a79-ac1e-461166cbf3ea/image.png\" width=\"60%\">\n",
    "\n",
    "- **브로드캐스팅의 개념**\n",
    "    - 브로드캐스팅은 다른 크기의 배열 간의 연산을 가능하게 합니다.\n",
    "    - 배열 간의 연산을 수행할 때, 자동으로 적절한 형상으로 맞춰주어 동일한 크기의 배열로 만들어 주는 과정\n",
    "- **브로드캐스팅 규칙**\n",
    "    1. 배열의 rank (배열의 차원 수)가 서로 다를 경우, 차원이 더 작은 배열의 앞쪽에 1을 추가합니다.\n",
    "    2. 배열의 shape (형상)이 맞지 않을 경우, 둘 중 하나의 배열의 shape가 1이면 해당 차원을 늘려서 맞춥니다.\n",
    "    3. 두 배열의 각 차원에서 크기가 다르고, 그 중 하나가 1도 아니라면, 두 배열은 호환되지 않으며 브로드캐스팅이 불가능합니다."
   ]
  },
  {
   "cell_type": "code",
   "execution_count": null,
   "metadata": {},
   "outputs": [],
   "source": []
  },
  {
   "cell_type": "code",
   "execution_count": null,
   "metadata": {},
   "outputs": [],
   "source": []
  },
  {
   "cell_type": "markdown",
   "metadata": {},
   "source": [
    "## 5. 배열 조작 2"
   ]
  },
  {
   "cell_type": "markdown",
   "metadata": {},
   "source": [
    "### 5-1. 인덱싱"
   ]
  },
  {
   "cell_type": "code",
   "execution_count": null,
   "metadata": {},
   "outputs": [],
   "source": []
  },
  {
   "cell_type": "code",
   "execution_count": null,
   "metadata": {},
   "outputs": [],
   "source": []
  },
  {
   "cell_type": "markdown",
   "metadata": {},
   "source": [
    "### 5-2. 배열 정렬\n",
    "- Numpy 배열을 기준에 따라 정렬\n",
    "  - sort\n",
    "  - lexsort\n",
    "  - where\n",
    "  - searchsorted\n",
    "  - extract"
   ]
  },
  {
   "cell_type": "code",
   "execution_count": null,
   "metadata": {},
   "outputs": [],
   "source": []
  },
  {
   "cell_type": "code",
   "execution_count": null,
   "metadata": {},
   "outputs": [],
   "source": []
  },
  {
   "cell_type": "markdown",
   "metadata": {},
   "source": [
    "### 5-3. arg로 시작하는 함수들\n",
    "- 배열에서 특정 조건을 만족하는 요소의 인덱스를 찾거나, 배열의 정렬과 관련된 작업을 수행\n",
    "  - argmax\n",
    "  - argmin\n",
    "  - argsort\n",
    "  - argwhere"
   ]
  },
  {
   "cell_type": "code",
   "execution_count": null,
   "metadata": {},
   "outputs": [],
   "source": []
  },
  {
   "cell_type": "code",
   "execution_count": null,
   "metadata": {},
   "outputs": [],
   "source": []
  },
  {
   "cell_type": "markdown",
   "metadata": {},
   "source": [
    "### 실습 문제"
   ]
  },
  {
   "cell_type": "markdown",
   "metadata": {},
   "source": [
    "#### 주어진 배열\n",
    "- np.array([[-5, 2, 10, -3], [3, -8, 7, 6], [0, 12, -3, 8]])\n",
    "\n",
    "#### 문제\n",
    "- 주어진 배열 arr의 모든 원소의 절댓값을 구하세요.\n",
    "- 배열의 모든 원소에 5를 더하세요\n",
    "- 주어진 배열을 1차원으로 변형하세요.\n",
    "- 배열 중 양수인 원소들의 평균을 구하세요.\n",
    "- 주어진 배열을 (2,3,2) 형태로 변형하세요.\n",
    "- 3 ~ 30 사이의 랜덤한 값들로 (3,2,2) 형태의 배열을 만드는 코드를 작성해주세요.\n",
    "- 배열의 두 번째 행을 추출해주세요.\n",
    "- 배열을 오름차순으로 정렬해주세요.\n",
    "- 배열에서 가장 큰 값의 인덱스를 찾아주세요.\n",
    "- 배열에서 양수인 원소들의 인덱스를 모두 출력하세요.\n",
    "- Broadcast되는 형태의 배열을 만들어 기존 배열에 더해주세요."
   ]
  },
  {
   "cell_type": "code",
   "execution_count": null,
   "metadata": {},
   "outputs": [],
   "source": []
  }
 ],
 "metadata": {
  "kernelspec": {
   "display_name": "lecture",
   "language": "python",
   "name": "python3"
  },
  "language_info": {
   "codemirror_mode": {
    "name": "ipython",
    "version": 3
   },
   "file_extension": ".py",
   "mimetype": "text/x-python",
   "name": "python",
   "nbconvert_exporter": "python",
   "pygments_lexer": "ipython3",
   "version": "3.12.4"
  }
 },
 "nbformat": 4,
 "nbformat_minor": 2
}
