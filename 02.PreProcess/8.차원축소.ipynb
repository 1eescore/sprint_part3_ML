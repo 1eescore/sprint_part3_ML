{
 "cells": [
  {
   "cell_type": "markdown",
   "metadata": {},
   "source": [
    "## (PCA, Principal Component Analysis)\n",
    "- 데이터의 분산을 최대한 보존하면서, 데이터의 주요 변동성을 설명하는 축(주성분)을 찾아 고차원 데이터를 저차원으로 변환하는 차원 축소 기법\n",
    "- 주로 데이터의 시각화, 노이즈 제거, 그리고 데이터의 특성 추출에 사용\n",
    "\n",
    "#### 1. PCA의 주요 단계\n",
    "[코드잇-PCA](https://www.codeit.kr/topics/dimensionality-reduction/lessons/6348)\n",
    "\n",
    "1. **표준화(Standardization)**:\n",
    "   - PCA를 수행하기 전에, 각 특성의 평균을 0으로, 분산을 1로 맞추는 표준화를 수행합니다. 이는 서로 다른 스케일을 가진 특성들 사이의 불균형을 제거하기 위해 필요합니다.\n",
    "\n",
    "2. **공분산 행렬 계산(Covariance Matrix Computation)**:\n",
    "   - 표준화된 데이터에 대해 공분산 행렬을 계산합니다. 이 행렬은 데이터의 각 특성 간의 분산과 공분산을 나타냅니다. 공분산 행렬의 크기는 특성의 개수에 따라 결정됩니다.\n",
    "\n",
    "3. **고유값과 고유벡터 계산(Eigenvalue and Eigenvector Calculation)**:\n",
    "   - 공분산 행렬에서 고유값(eigenvalue)과 고유벡터(eigenvector)를 계산합니다. 고유값은 주성분의 중요도를 나타내며, 고유벡터는 주성분의 방향을 나타냅니다. 고유값이 클수록 해당 주성분이 데이터의 변동성을 더 많이 설명합니다.\n",
    "\n",
    "4. **주성분 선택(Selection of Principal Components)**:\n",
    "   - 고유값의 크기 순으로 정렬하고, 그에 대응하는 고유벡터를 선택하여 주성분을 결정합니다. 데이터의 총 변동성 중 일정 비율 이상을 설명하는 주성분을 선택하여 차원을 축소합니다.\n",
    "\n",
    "5. **변환(Transformation)**:\n",
    "   - 선택된 주성분(고유벡터)으로 데이터를 변환합니다. 이 변환된 데이터가 주성분 축에 투영된 데이터로, 원래 데이터의 중요한 변동성을 유지하면서 차원이 축소됩니다.\n",
    "\n",
    "### PCA의 응용\n",
    "- **이미지 압축**: 이미지 데이터를 주성분으로 변환하여 압축 및 전송 효율성을 높입니다.\n",
    "- **데이터 시각화**: 고차원 데이터를 2D 또는 3D로 변환하여 시각적으로 분석합니다.\n",
    "- **노이즈 감소**: 신호 처리에서 노이즈를 줄이고 중요한 신호만 남기기 위해 사용됩니다."
   ]
  },
  {
   "cell_type": "code",
   "execution_count": null,
   "metadata": {},
   "outputs": [],
   "source": []
  },
  {
   "cell_type": "code",
   "execution_count": null,
   "metadata": {},
   "outputs": [],
   "source": []
  },
  {
   "cell_type": "markdown",
   "metadata": {},
   "source": [
    "#### 와인 데이터셋 시각화 실습"
   ]
  },
  {
   "cell_type": "code",
   "execution_count": null,
   "metadata": {},
   "outputs": [],
   "source": []
  },
  {
   "cell_type": "code",
   "execution_count": null,
   "metadata": {},
   "outputs": [],
   "source": []
  },
  {
   "cell_type": "code",
   "execution_count": null,
   "metadata": {},
   "outputs": [],
   "source": []
  }
 ],
 "metadata": {
  "kernelspec": {
   "display_name": "lecture",
   "language": "python",
   "name": "python3"
  },
  "language_info": {
   "codemirror_mode": {
    "name": "ipython",
    "version": 3
   },
   "file_extension": ".py",
   "mimetype": "text/x-python",
   "name": "python",
   "nbconvert_exporter": "python",
   "pygments_lexer": "ipython3",
   "version": "3.12.4"
  }
 },
 "nbformat": 4,
 "nbformat_minor": 2
}
