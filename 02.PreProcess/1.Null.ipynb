{
 "cells": [
  {
   "cell_type": "markdown",
   "metadata": {},
   "source": [
    "## 결측치 처리"
   ]
  },
  {
   "cell_type": "markdown",
   "metadata": {},
   "source": [
    "### 1. 상수 대체\n",
    "**사용 예:**\n",
    "- 데이터 분석 초기에 간단한 대체가 필요한 경우\n",
    "- 특정 값(예: 0 또는 -1)이 의미 있는 경우\n",
    "- 데이터의 null 값이 특별한 의미가 없고, 단순히 빈 값으로 처리할 수 있을 때\n",
    "\n",
    "**예시:**\n",
    "- 제품의 재고 수량에서 결측값을 0으로 대체하여, 결측값이 있는 경우 해당 제품의 재고가 없음을 의미하도록 할 때"
   ]
  },
  {
   "cell_type": "code",
   "execution_count": null,
   "metadata": {},
   "outputs": [],
   "source": []
  },
  {
   "cell_type": "markdown",
   "metadata": {},
   "source": [
    "### 2. 평균 대체\n",
    "**사용 예:**\n",
    "- 연속형 데이터의 결측값을 처리할 때\n",
    "- 데이터 분포가 정규분포에 가깝고, 평균값이 대표 값을 잘 나타낼 때\n",
    "- 결측값이 많지 않고, 평균으로 대체해도 큰 왜곡이 없을 때"
   ]
  },
  {
   "cell_type": "code",
   "execution_count": null,
   "metadata": {},
   "outputs": [],
   "source": []
  },
  {
   "cell_type": "markdown",
   "metadata": {},
   "source": [
    "### 3. 중간값 대체\n",
    "**사용 예:**\n",
    "- 데이터에 극단값(outliers)이 존재하여 평균이 대표 값을 잘 나타내지 못할 때\n",
    "- 데이터가 비대칭적으로 분포되어 있을 때\n",
    "- 연속형 데이터에서 중앙값이 더 적합한 대표 값일 때"
   ]
  },
  {
   "cell_type": "code",
   "execution_count": null,
   "metadata": {},
   "outputs": [],
   "source": []
  },
  {
   "cell_type": "markdown",
   "metadata": {},
   "source": [
    "### 4. 최대값 대체\n",
    "**사용 예:**\n",
    "- 데이터의 특정 값이 매우 중요한 의미를 가질 때\n",
    "- 결측값이 발생한 경우 최대값을 대체하는 것이 의미가 있을 때\n",
    "- 데이터 분석 목적상 최고 값을 기준으로 결측값을 대체하는 것이 적절할 때\n",
    "\n",
    "**예시:**\n",
    "- 판매량 데이터에서 결측값을 최대 판매량으로 대체하여, 최악의 시나리오를 가정하고자 할 때\n",
    "---\n",
    "### 5. 최소값 대체\n",
    "**사용 예:**\n",
    "- 데이터의 특정 값이 매우 중요한 의미를 가질 때\n",
    "- 결측값이 발생한 경우 최소값을 대체하는 것이 의미가 있을 때\n",
    "- 데이터 분석 목적상 최저 값을 기준으로 결측값을 대체하는 것이 적절할 때\n",
    "\n",
    "**예시:**\n",
    "- 온도 데이터에서 결측값을 최소 온도로 대체하여, 최악의 시나리오를 가정하고자 할 때"
   ]
  },
  {
   "cell_type": "code",
   "execution_count": null,
   "metadata": {},
   "outputs": [],
   "source": []
  },
  {
   "cell_type": "markdown",
   "metadata": {},
   "source": [
    "### 6. 최빈값 대체\n",
    "**사용 예:**\n",
    "- 범주형 데이터의 결측값을 처리할 때\n",
    "- 특정 범주의 빈도가 매우 높아 그 값으로 대체하는 것이 자연스러울 때\n",
    "- 데이터가 명목형 또는 순서형일 때"
   ]
  },
  {
   "cell_type": "code",
   "execution_count": null,
   "metadata": {},
   "outputs": [],
   "source": []
  },
  {
   "cell_type": "markdown",
   "metadata": {},
   "source": [
    "### 7. 선행값 대체\n",
    "**사용 예:**\n",
    "- 시계열 데이터의 결측값을 처리할 때\n",
    "- 연속된 데이터에서 결측값이 이전 값과 동일할 가능성이 높을 때\n",
    "- 결측값이 발생한 경우 이전 상태를 유지하는 것이 적절할 때\n",
    "\n",
    "**예시:**\n",
    "- 주식 가격 데이터에서 결측값을 이전 날의 가격으로 대체하여, 일시적인 데이터 손실을 보완할 때\n"
   ]
  },
  {
   "cell_type": "code",
   "execution_count": null,
   "metadata": {},
   "outputs": [],
   "source": []
  },
  {
   "cell_type": "markdown",
   "metadata": {},
   "source": [
    "### 7. 선행값 대체\n",
    "**사용 예:**\n",
    "- 시계열 데이터의 결측값을 처리할 때\n",
    "- 연속된 데이터에서 결측값이 이전 값과 동일할 가능성이 높을 때\n",
    "- 결측값이 발생한 경우 이전 상태를 유지하는 것이 적절할 때\n",
    "\n",
    "**예시:**\n",
    "- 주식 가격 데이터에서 결측값을 이전 날의 가격으로 대체하여, 일시적인 데이터 손실을 보완할 때\n",
    "---\n",
    "### 8. 후행값 대체\n",
    "**사용 예:**\n",
    "- 시계열 데이터의 결측값을 처리할 때\n",
    "- 연속된 데이터에서 결측값이 이후 값과 동일할 가능성이 높을 때\n",
    "- 결측값이 발생한 경우 이후 상태를 유지하는 것이 적절할 때\n",
    "\n",
    "**예시:**\n",
    "- 센서 데이터에서 결측값을 이후의 값으로 대체하여, 센서가 정상 작동을 재개한 이후의 데이터를 신뢰할 때"
   ]
  },
  {
   "cell_type": "code",
   "execution_count": 5,
   "metadata": {},
   "outputs": [
    {
     "name": "stdout",
     "output_type": "stream",
     "text": [
      "      A      B      C\n",
      "0   5.0    0.0  376.0\n",
      "1   3.0    0.0   94.0\n",
      "2   3.0   91.0  141.0\n",
      "3   3.0   78.0  141.0\n",
      "4   2.0  104.0  376.0\n",
      "5   3.0    0.0  329.0\n",
      "6   5.0   13.0  376.0\n",
      "7   5.0   13.0  235.0\n",
      "8   8.0   91.0  141.0\n",
      "9   2.0   52.0  235.0\n",
      "10  3.0   13.0  282.0\n",
      "11  0.0   52.0  376.0\n",
      "12  3.0   52.0  329.0\n",
      "13  0.0  104.0  329.0\n",
      "14  3.0  104.0  376.0\n",
      "15  9.0   78.0  188.0\n",
      "16  3.0   91.0  376.0\n",
      "17  3.0   13.0  188.0\n",
      "18  3.0  104.0  141.0\n",
      "19  3.0    0.0  141.0\n",
      "20  3.0   13.0  329.0\n",
      "21  3.0   91.0  329.0\n",
      "22  9.0   26.0  141.0\n",
      "23  5.0    0.0   94.0\n",
      "24  1.0  117.0  376.0\n",
      "25  5.0   13.0  141.0\n",
      "26  3.0  104.0  188.0\n",
      "27  0.0    0.0  329.0\n",
      "28  3.0    0.0    0.0\n",
      "29  3.0    0.0  329.0\n",
      "30  3.0   13.0  141.0\n",
      "31  1.0   78.0   94.0\n",
      "32  1.0   91.0   94.0\n",
      "33  0.0    0.0  329.0\n",
      "34  3.0   78.0  329.0\n",
      "35  3.0    0.0  141.0\n",
      "36  0.0    0.0  282.0\n",
      "37  1.0   78.0  282.0\n",
      "38  1.0   78.0  188.0\n",
      "39  9.0   13.0    0.0\n",
      "40  8.0   52.0  188.0\n",
      "41  5.0    0.0   94.0\n",
      "42  2.0    0.0  329.0\n",
      "43  3.0   13.0  329.0\n",
      "44  8.0   13.0  376.0\n",
      "45  0.0   91.0  376.0\n",
      "46  0.0   91.0  141.0\n",
      "47  1.0   26.0  141.0\n",
      "48  8.0   13.0    0.0\n",
      "49  2.0   13.0  141.0\n"
     ]
    },
    {
     "name": "stderr",
     "output_type": "stream",
     "text": [
      "/var/folders/5t/b4f76j1158ld50h5rb8dx4b00000gn/T/ipykernel_51044/1255746260.py:3: FutureWarning: DataFrame.fillna with 'method' is deprecated and will raise in a future version. Use obj.ffill() or obj.bfill() instead.\n",
      "  df_ffill = df.fillna(method='ffill')\n",
      "/var/folders/5t/b4f76j1158ld50h5rb8dx4b00000gn/T/ipykernel_51044/1255746260.py:8: FutureWarning: DataFrame.fillna with 'method' is deprecated and will raise in a future version. Use obj.ffill() or obj.bfill() instead.\n",
      "  df_bfill = df.fillna(method='bfill')\n"
     ]
    }
   ],
   "source": []
  },
  {
   "cell_type": "markdown",
   "metadata": {},
   "source": [
    "### 8. 후행값 대체\n",
    "**사용 예:**\n",
    "- 시계열 데이터의 결측값을 처리할 때\n",
    "- 연속된 데이터에서 결측값이 이후 값과 동일할 가능성이 높을 때\n",
    "- 결측값이 발생한 경우 이후 상태를 유지하는 것이 적절할 때\n",
    "\n",
    "**예시:**\n",
    "- 센서 데이터에서 결측값을 이후의 값으로 대체하여, 센서가 정상 작동을 재개한 이후의 데이터를 신뢰할 때"
   ]
  },
  {
   "cell_type": "code",
   "execution_count": null,
   "metadata": {},
   "outputs": [],
   "source": []
  },
  {
   "cell_type": "markdown",
   "metadata": {},
   "source": [
    "## 2. Sklearn 메소드를 활용한 결측치 처리\n",
    "- **SimpleImputer()**\n",
    "  - missing_values: 결측치 처리를 할 데이터 타입\n",
    "  - strategy: default = 'mean', 'median', 'most_frequent', 'constant'\n",
    "  - fill_value: 결측치를 채우는 값 (option: str or numerical value, default=None)\n",
    "  - copy: 복사본을 만들어서 결측치 처리를 할지의 여부 (option: bool, default = True)"
   ]
  },
  {
   "cell_type": "code",
   "execution_count": null,
   "metadata": {},
   "outputs": [],
   "source": []
  }
 ],
 "metadata": {
  "kernelspec": {
   "display_name": "lecture",
   "language": "python",
   "name": "python3"
  },
  "language_info": {
   "codemirror_mode": {
    "name": "ipython",
    "version": 3
   },
   "file_extension": ".py",
   "mimetype": "text/x-python",
   "name": "python",
   "nbconvert_exporter": "python",
   "pygments_lexer": "ipython3",
   "version": "3.10.4"
  }
 },
 "nbformat": 4,
 "nbformat_minor": 2
}
