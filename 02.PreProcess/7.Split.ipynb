{
 "cells": [
  {
   "cell_type": "markdown",
   "metadata": {},
   "source": [
    "## 데이터 분할\n",
    "\n",
    "### 1. 개념\n",
    "\n",
    "**Train-Test Split**: 데이터셋을 두 개의 부분으로 나누는 과정입니다. \n",
    "- **훈련 세트 (Training Set)**: 모델을 학습시키는 데 사용되는 데이터입니다.\n",
    "- **테스트 세트 (Test Set)**: 학습된 모델의 성능을 평가하는 데 사용되는 데이터입니다.\n",
    "\n",
    "![](https://velog.velcdn.com/images/newnew_daddy/post/c70285e5-28e4-4f4e-9322-e1cc227aabc7/image.png)\n",
    "\n",
    "보통 데이터셋의 70-80%는 훈련 세트로, 나머지 20-30%는 테스트 세트로 나눕니다. \n",
    "\n",
    "### 2. 목적\n",
    "\n",
    "1. **모델 평가**: 모델이 새로운 데이터에 대해 얼마나 잘 일반화되는지 평가하기 위해 사용합니다. \n",
    "2. **과적합 방지**: 훈련 데이터에 너무 특화된 모델이 생성되지 않도록 합니다.\n",
    "\n",
    "### 3. 이유\n",
    "\n",
    "1. **일반화 능력 측정**:\n",
    "   - 모델이 훈련 데이터에서 잘 동작한다고 해서 실제 데이터에서도 잘 동작하는 것은 아닙니다.\n",
    "   - 테스트 세트를 통해 모델이 보지 못한 데이터에 대해 얼마나 잘 예측하는지 확인할 수 있습니다.\n",
    "   \n",
    "2. **과적합(Overfitting) 방지**:\n",
    "   - 모델이 훈련 데이터에 너무 맞춰지면 새로운 데이터에 대해 좋은 성능을 내지 못합니다.\n",
    "   - 테스트 세트는 모델이 얼마나 일반화됐는지, 즉 새로운 데이터에 대해 잘 예측하는지를 확인할 수 있습니다.\n",
    "   \n",
    "3. **모델 선택**:\n",
    "   - 여러 모델을 비교하고 선택할 때 테스트 세트의 성능을 기준으로 합니다.\n",
    "   - 이는 데이터가 동일한 조건에서 평가되어 공정한 비교가 가능하게 합니다.\n",
    "   \n",
    "4. **파라미터 튜닝**:\n",
    "   - 하이퍼파라미터를 조정할 때도 테스트 세트를 사용하여 최적의 파라미터를 선택할 수 있습니다.\n",
    "   - 교차 검증(cross-validation)과 함께 사용하면 더욱 효과적입니다."
   ]
  },
  {
   "cell_type": "markdown",
   "metadata": {},
   "source": [
    "### 1. Train-Test Split\n",
    "- 데이터를 학습(train)과 테스트(test) 세트로 분할하여 모델을 학습하고 평가합니다. 일반적으로 데이터의 70-80%를 학습에, 나머지를 테스트에 사용"
   ]
  },
  {
   "cell_type": "code",
   "execution_count": null,
   "metadata": {},
   "outputs": [],
   "source": []
  },
  {
   "cell_type": "code",
   "execution_count": null,
   "metadata": {},
   "outputs": [],
   "source": []
  },
  {
   "cell_type": "markdown",
   "metadata": {},
   "source": [
    "### 2. Cross-Validation Split\n",
    "\n",
    "![](https://velog.velcdn.com/images/newnew_daddy/post/14775f0e-e5bd-4346-aadf-f5082f5ea727/image.png)\n",
    "\n",
    "- 데이터를 여러 개의 폴드로 나누어 각 폴드에 대해 학습과 평가를 반복하여 모델의 일반화 성능을 평가합니다.\n",
    "- 데이터의 분할과 평가를 여러 번 반복함으로써 모델의 성능 변동을 줄입니다.\n",
    "- 각 폴드에서 나온 정확도의 평균값을 모델의 정확도로 사용합니다."
   ]
  },
  {
   "cell_type": "code",
   "execution_count": null,
   "metadata": {},
   "outputs": [],
   "source": []
  },
  {
   "cell_type": "code",
   "execution_count": null,
   "metadata": {},
   "outputs": [],
   "source": []
  },
  {
   "cell_type": "markdown",
   "metadata": {},
   "source": [
    "#### 1) K-Fold\n",
    "- 데이터를 K개의 폴드로 나누어 각 폴드에 대해 학습하고 나머지 폴드로 평가합니다. \n",
    "- 모든 폴드가 한번씩 테스트 세트가 되어 K번의 학습과 평가를 수행합니다."
   ]
  },
  {
   "cell_type": "code",
   "execution_count": null,
   "metadata": {},
   "outputs": [],
   "source": []
  },
  {
   "cell_type": "code",
   "execution_count": null,
   "metadata": {},
   "outputs": [],
   "source": []
  },
  {
   "cell_type": "markdown",
   "metadata": {},
   "source": [
    "#### 2) Leave One Out\n",
    "\n",
    "![](https://velog.velcdn.com/images/newnew_daddy/post/7ed11d41-c337-41d6-93aa-7b775be27813/image.png)\n",
    "\n",
    "- 각 데이터 포인트를 하나의 테스트 세트로 사용하고 나머지 데이터를 학습에 사용하는 방식입니다.\n",
    "- 각 모델 학습시 하나의 샘플만 제외하여 train-test set을 생성하여 dataset 수 만큼(N) 모델을 생성합니다.\n",
    "- N개의 모델에 대해서 정확도 평균을 내어 최종 정확도 산출\n",
    "- 모든 샘플에 대해서 한 번씩 test하기 때문에 randomness가 거의 없고 굉장히 stable하다.\n",
    "- 하지만 컴퓨팅 시간이 오래걸리고, 리소스의 사용량이 많아진다.\n",
    "- Dataset의 크기가 그렇게 크지 않을때 사용"
   ]
  },
  {
   "cell_type": "code",
   "execution_count": null,
   "metadata": {},
   "outputs": [],
   "source": []
  },
  {
   "cell_type": "code",
   "execution_count": null,
   "metadata": {},
   "outputs": [],
   "source": []
  },
  {
   "cell_type": "markdown",
   "metadata": {},
   "source": [
    "#### 3) Stratified K-Fold\n",
    "\n",
    "![](https://velog.velcdn.com/images/newnew_daddy/post/da92c3b4-c4fe-465a-8ea1-ec106bdd6167/image.png)\n",
    "\n",
    "- 불균형한 분포를 가진 Dataset에 대해 적용할 수 있는 K Fold 방법\n",
    "- 원본 데이터의 클래스 분포를 먼저 고려한 뒤 이 분포와 동일하도록 데이터를 분할\n",
    "- 카드 이상 거래 데이터의 경우 정상거래(0)가 이상거래(1)에 비해 압도적으로 많다. 이 경우, 일반적인 K-Fold를 통해 데이터를 나눠주면 test dataset에 이상거래가 한 건도 포함이 안되는 경우가 발생할 수 있다.\n",
    "- 따라서 Stratified K-Fold를 통해 클래스별 분포를 고려한 데이터 분할이 되어야 한다."
   ]
  },
  {
   "cell_type": "code",
   "execution_count": null,
   "metadata": {},
   "outputs": [],
   "source": []
  },
  {
   "cell_type": "code",
   "execution_count": null,
   "metadata": {},
   "outputs": [],
   "source": []
  },
  {
   "cell_type": "markdown",
   "metadata": {},
   "source": [
    "#### 4) Time Series Split\n",
    "\n",
    "![](https://velog.velcdn.com/images/newnew_daddy/post/9dee949c-2fd6-457a-b451-8adade3dc416/image.png)\n",
    "\n",
    "- 시간 순서가 중요한 시계열 데이터에 사용\n",
    "- 데이터를 시간 순서대로 분할하여 훈련과 테스트 세트를 구성하며, 미래의 데이터를 예측하는 데 유용\n",
    "- 과거의 데이터를 기반으로 미래를 예측하는 금융, 주식, 기상 등의 데이터에 활용. 시계열 회귀 문제에 적합"
   ]
  },
  {
   "cell_type": "code",
   "execution_count": null,
   "metadata": {},
   "outputs": [],
   "source": []
  },
  {
   "cell_type": "code",
   "execution_count": null,
   "metadata": {},
   "outputs": [],
   "source": []
  },
  {
   "cell_type": "code",
   "execution_count": null,
   "metadata": {},
   "outputs": [],
   "source": []
  }
 ],
 "metadata": {
  "kernelspec": {
   "display_name": "lecture",
   "language": "python",
   "name": "python3"
  },
  "language_info": {
   "codemirror_mode": {
    "name": "ipython",
    "version": 3
   },
   "file_extension": ".py",
   "mimetype": "text/x-python",
   "name": "python",
   "nbconvert_exporter": "python",
   "pygments_lexer": "ipython3",
   "version": "3.12.4"
  }
 },
 "nbformat": 4,
 "nbformat_minor": 2
}
