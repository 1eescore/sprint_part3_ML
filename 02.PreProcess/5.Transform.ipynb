{
 "cells": [
  {
   "cell_type": "markdown",
   "metadata": {},
   "source": [
    "## 데이터 변환"
   ]
  },
  {
   "cell_type": "markdown",
   "metadata": {},
   "source": [
    "### 스케일링 vs 데이터 변환\n",
    "#### 1. 스케일링의 목적\n",
    "- 스케일링은 데이터를 일정한 범위로 조정하여 모델 훈련 시 변수 간의 크기 차이로 인한 영향을 줄이는 데 목적이 있습니다.\n",
    "- 컬럼별로 변동 폭이 너무 다를 때, 이를 비슷하게 맞춰주기 위해서 스케일링을 실시하며 데이터가 한 쪽이 치우쳐 있는(skew) 등의 데이터 자체 편향을 조정해주지는 않는다.\n",
    "- 즉, 각 피쳐 컬럼별 데이터의 스케일을 맞춰주는 작업이지, 데이터의 전체적인 통계적 속성을 바꿔주는 작업은 아니다.\n",
    "\n",
    "#### 2. 데이터 변환의 목적\n",
    "- 데이터가 편향되어 있다면 어느정도 정규분포에 맞도록 변환시켜주는 등 데이터 변환 작업은 데이터의 전체적인 통계적 속성을 바꿔주어 모델 훈련이 더 안정적으로 이루어질 수 있도록 하는 것이 목적이다.\n",
    "- 데이터를 정규 분포에 가깝게 변환, 편향을 완화하도록 변환, 비선형 관계를 선형 관계로 변환하는 등의 작업이 이루어진다.\n",
    "\n",
    "#### 3. 주요 데이터 변환 방법\n",
    "![](https://velog.velcdn.com/images/newnew_daddy/post/b811e45c-0dfb-4b13-8322-3a65f97a87ad/image.png)\n",
    "\n",
    "- 로그 변환, 제곱근 변환, Box-Cox 변환, Yeo-Johnson\n",
    "- 왜도(Skewness) 측정 -> https://wikidocs.net/156776"
   ]
  },
  {
   "cell_type": "code",
   "execution_count": null,
   "metadata": {},
   "outputs": [],
   "source": []
  },
  {
   "cell_type": "code",
   "execution_count": null,
   "metadata": {},
   "outputs": [],
   "source": []
  },
  {
   "cell_type": "markdown",
   "metadata": {},
   "source": [
    "#### 1. 로그 변환\n",
    "- 데이터의 분포를 정규 분포에 가깝게 만들기 위해 사용합니다. 주로 양의 값에 대해 적용되며, 데이터의 스케일을 줄이는 데 효과적입니다.\n",
    "\n",
    "- `np.log(x)`\n",
    "  - 직접 자연 로그를 계산하고, 0 이하의 값에서는 사용 불가능합니다.\n",
    "- `np.log1p(x)`\n",
    "  - \\( \\ln(1 + x) \\)를 계산하여, 작은 값에서의 정밀도를 높이고, 0이나 작은 음수에도 사용할 수 있습니다.\n",
    "  - `np.log1p`는 주로 작은 값에서의 정확도를 높이기 위해 사용되며, 음수에서 안정성을 제공합니다."
   ]
  },
  {
   "cell_type": "code",
   "execution_count": null,
   "metadata": {},
   "outputs": [],
   "source": []
  },
  {
   "cell_type": "code",
   "execution_count": null,
   "metadata": {},
   "outputs": [],
   "source": []
  },
  {
   "cell_type": "markdown",
   "metadata": {},
   "source": [
    "#### 2. 제곱근 변환\n",
    "- 데이터의 분포를 안정화하고 왜곡을 줄이기 위해 사용됩니다. 양의 값에 대해 적용되며, 주로 데이터의 분포가 양의 편향을 가질 때 사용됩니다."
   ]
  },
  {
   "cell_type": "code",
   "execution_count": null,
   "metadata": {},
   "outputs": [],
   "source": []
  },
  {
   "cell_type": "code",
   "execution_count": null,
   "metadata": {},
   "outputs": [],
   "source": []
  },
  {
   "cell_type": "markdown",
   "metadata": {},
   "source": [
    "#### 3. Box-Cox 변환\n",
    "- 특정 파라미터 λ(lambda)에 따라 데이터의 분포를 정규화하는 변환입니다. 양의 값에 대해 적용되며, 최적의 λ값을 찾아 데이터의 분포를 정규 분포에 가깝게 만듭니다."
   ]
  },
  {
   "cell_type": "code",
   "execution_count": null,
   "metadata": {},
   "outputs": [],
   "source": []
  },
  {
   "cell_type": "code",
   "execution_count": null,
   "metadata": {},
   "outputs": [],
   "source": []
  },
  {
   "cell_type": "markdown",
   "metadata": {},
   "source": [
    "#### 4. Yeo-Johnson 변환\n",
    "- Box-Cox 변환의 확장으로, 음수와 0을 포함한 모든 실수 데이터에 적용할 수 있습니다. 데이터를 정규 분포에 가깝게 변환합니다."
   ]
  },
  {
   "cell_type": "code",
   "execution_count": null,
   "metadata": {},
   "outputs": [],
   "source": []
  },
  {
   "cell_type": "code",
   "execution_count": null,
   "metadata": {},
   "outputs": [],
   "source": []
  },
  {
   "cell_type": "markdown",
   "metadata": {},
   "source": [
    "#### 5. Custom 변환\n",
    "- 사용자가 지정한 함수의 기능대로 데이터 변환 작업을 수행할 수 있다."
   ]
  },
  {
   "cell_type": "code",
   "execution_count": null,
   "metadata": {},
   "outputs": [],
   "source": []
  },
  {
   "cell_type": "code",
   "execution_count": null,
   "metadata": {},
   "outputs": [],
   "source": []
  },
  {
   "cell_type": "code",
   "execution_count": null,
   "metadata": {},
   "outputs": [],
   "source": []
  }
 ],
 "metadata": {
  "kernelspec": {
   "display_name": "lecture",
   "language": "python",
   "name": "python3"
  },
  "language_info": {
   "codemirror_mode": {
    "name": "ipython",
    "version": 3
   },
   "file_extension": ".py",
   "mimetype": "text/x-python",
   "name": "python",
   "nbconvert_exporter": "python",
   "pygments_lexer": "ipython3",
   "version": "3.12.4"
  }
 },
 "nbformat": 4,
 "nbformat_minor": 2
}
