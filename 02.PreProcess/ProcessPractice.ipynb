{
 "cells": [
  {
   "cell_type": "markdown",
   "metadata": {},
   "source": [
    "## 전처리 실습"
   ]
  },
  {
   "cell_type": "markdown",
   "metadata": {},
   "source": [
    "1. 중복 처리\n",
    "2. 결측치 처리(drop하지 말고, 이전 혹은 이후 값으로 채우기)\n",
    "3. First_Name, Last_Name 컬럼들에서 필요없는 문자 처리\n",
    "4. 전화번호 형식 통일 (000-000-0000)\n",
    "5. Yes, No를 Y, N 으로 형식 통일\n",
    "6. Pet 컬럼 인코딩, \n",
    "7. CreDate 컬럼 타입 알맞게 변경\n",
    "8. Address에서 뒤에 도시명만 추출"
   ]
  },
  {
   "cell_type": "code",
   "execution_count": null,
   "metadata": {
    "vscode": {
     "languageId": "plaintext"
    }
   },
   "outputs": [],
   "source": []
  },
  {
   "cell_type": "code",
   "execution_count": null,
   "metadata": {
    "vscode": {
     "languageId": "plaintext"
    }
   },
   "outputs": [],
   "source": []
  }
 ],
 "metadata": {
  "kernelspec": {
   "display_name": "lecture",
   "language": "python",
   "name": "python3"
  },
  "language_info": {
   "codemirror_mode": {
    "name": "ipython",
    "version": 3
   },
   "file_extension": ".py",
   "mimetype": "text/x-python",
   "name": "python",
   "nbconvert_exporter": "python",
   "pygments_lexer": "ipython3",
   "version": "3.12.4"
  }
 },
 "nbformat": 4,
 "nbformat_minor": 2
}
