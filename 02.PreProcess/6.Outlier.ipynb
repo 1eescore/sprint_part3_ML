{
 "cells": [
  {
   "cell_type": "markdown",
   "metadata": {},
   "source": [
    "## 이상치 제거\n",
    "\n",
    "![](https://velog.velcdn.com/images/newnew_daddy/post/6a1e20c2-da20-4dcd-89be-6db0a794840e/image.png)\n",
    "\n",
    "- 이상치란 관측된 데이터의 범위에서 많이 벗어난 값들을 의미한다.\n",
    "- 상관 관계를 파악할 때, 이러한 소수의 이상치가 큰 영향을 미칠 수 있기 때문에 전처리 과정에서 이상치 처리는 필수적이다.\n",
    "- \"데이터의 범위에서 많이 벗어난\"의 기준이 주관적일 수 있기 때문에 이상치를 탐지하는 몇 가지 방법론들을 활용하여 이상치를 효율적이고 일관적인 기준으로 제거한다."
   ]
  },
  {
   "cell_type": "markdown",
   "metadata": {},
   "source": [
    "#### 1. IQR(Inter Quantile Range) - 사분위수 기반\n",
    "<img src=\"https://velog.velcdn.com/images/newnew_daddy/post/496a9887-06c8-4afc-8fef-8f4de7913875/image.png\" width=\"60%\">\n",
    "\n",
    "[출처 : wikipedia]\n",
    "\n",
    "- IQR 방법은 데이터의 중앙값과 사분위수를 기반으로 이상치를 검출합니다. 주로 비정규 분포 데이터에 유용합니다.\n",
    "- 사분위 : 데이터를 4등분 했을 때의 범위\n",
    "  - Q1 : 데이터의 하위 25%에 해당하는 값\n",
    "  - Q2 : 데이터의 절반. 즉, 중앙값\n",
    "  - Q3 : 데이터의 상위 25%에 해당하는 값\n",
    "  - IQR : Q3 - Q1\n",
    "  - IQR의 1.5배를 Q1에서 빼고, Q3에 더했을 때, 그 범위 밖에 있는 값들을 이상치로 간주."
   ]
  },
  {
   "cell_type": "code",
   "execution_count": null,
   "metadata": {},
   "outputs": [],
   "source": []
  },
  {
   "cell_type": "code",
   "execution_count": null,
   "metadata": {},
   "outputs": [],
   "source": []
  },
  {
   "cell_type": "markdown",
   "metadata": {},
   "source": [
    "#### 2. Z-Score (표준편차 기반 이상치 제거)\n",
    "\n",
    "![](https://velog.velcdn.com/images/newnew_daddy/post/aece5c38-10ec-41ca-b70c-eae45b875623/image.png)\n",
    "\n",
    "\n",
    "- 데이터의 평균과 표준편차를 계산하여, 일반적인 범위를 벗어난 데이터를 이상치로 간주\n",
    "- 일반적으로 평균에서 ±3개의 표준편차 이상으로 떨어진 데이터를 이상치로 판단.\n",
    "\n",
    "![](https://velog.velcdn.com/images/newnew_daddy/post/57bceac8-0278-4c46-88c0-4861ef80dfa3/image.png)\n",
    "\n",
    "- **예시**\n",
    "  - 주어진 데이터 집합의 평균이 100, 표준편차가 10 일 때,\n",
    "  - 이상치 기준\n",
    "    - μ−3σ=50−3⋅10=20 이하  or  μ+3σ=50+3⋅10=80 이상\n",
    "  - 88인 지점의 Z-Score\n",
    "    - (X-평균) / 표준편차  =  (88-100) / 10  =  -1.2\n",
    "\n"
   ]
  },
  {
   "cell_type": "code",
   "execution_count": null,
   "metadata": {},
   "outputs": [],
   "source": []
  },
  {
   "cell_type": "code",
   "execution_count": null,
   "metadata": {},
   "outputs": [],
   "source": []
  }
 ],
 "metadata": {
  "kernelspec": {
   "display_name": "lecture",
   "language": "python",
   "name": "python3"
  },
  "language_info": {
   "codemirror_mode": {
    "name": "ipython",
    "version": 3
   },
   "file_extension": ".py",
   "mimetype": "text/x-python",
   "name": "python",
   "nbconvert_exporter": "python",
   "pygments_lexer": "ipython3",
   "version": "3.12.4"
  }
 },
 "nbformat": 4,
 "nbformat_minor": 2
}
