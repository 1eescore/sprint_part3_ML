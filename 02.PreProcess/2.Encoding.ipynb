{
 "cells": [
  {
   "cell_type": "markdown",
   "metadata": {},
   "source": [
    "## Encoding\n",
    "\n",
    "https://velog.io/@seungwoong12/encoding"
   ]
  },
  {
   "cell_type": "markdown",
   "metadata": {},
   "source": [
    "#### 1. Label Encoding\n",
    "- 범주형 변수를 정수로 변환합니다. 범주 간 순서가 의미 없을 때 사용합니다.\n",
    "- 주로 트리 기반 모델에서 사용되며, 단순하고 빠르게 구현할 수 있습니다.\n",
    "- [\"a\", \"b\", \"c\"] -> [0, 1, 2]"
   ]
  },
  {
   "cell_type": "code",
   "execution_count": null,
   "metadata": {},
   "outputs": [],
   "source": []
  },
  {
   "cell_type": "code",
   "execution_count": null,
   "metadata": {},
   "outputs": [],
   "source": []
  },
  {
   "cell_type": "markdown",
   "metadata": {},
   "source": [
    "#### 2. One-Hot Encoding\n",
    "- 범주형 변수를 이진 변수의 배열로 변환합니다. 범주 간 순서가 없는 경우 사용합니다.\n",
    "- 각 범주가 서로 독립적일 때 유용하며, 회귀나 SVM 모델에서 많이 사용됩니다.\n",
    "- [\"a\", \"b\", \"c\"] -> [[1, 0, 0], [0, 1, 0], [0, 0, 1]]\n",
    "\n",
    "#### Label Enc vs One-hot Enc\n",
    "\n",
    "![](https://velog.velcdn.com/images/newnew_daddy/post/a0f93c4f-0f04-4d93-951b-9b2041638cfa/image.png)\n"
   ]
  },
  {
   "cell_type": "code",
   "execution_count": null,
   "metadata": {},
   "outputs": [],
   "source": []
  },
  {
   "cell_type": "code",
   "execution_count": null,
   "metadata": {},
   "outputs": [],
   "source": []
  },
  {
   "cell_type": "markdown",
   "metadata": {},
   "source": [
    "#### 3. Ordinal Encoding\n",
    "- 범주형 변수를 정수로 변환합니다. 범주 간 순서가 의미 있을 때 사용합니다.\n",
    "- 범주의 순서가 중요한 경우에 유용하며, 특히 순위형 데이터에서 많이 사용됩니다.\n",
    "- [\"low\", \"medium\", \"high\"] -> [0, 1, 2]"
   ]
  },
  {
   "cell_type": "code",
   "execution_count": null,
   "metadata": {},
   "outputs": [],
   "source": []
  },
  {
   "cell_type": "code",
   "execution_count": null,
   "metadata": {},
   "outputs": [],
   "source": []
  },
  {
   "cell_type": "markdown",
   "metadata": {},
   "source": [
    "#### 4. Target Encoding\n",
    "- 범주형 데이터를 종속변수(target)값의 크기와 비례한 숫자로 변환되는 기법\n",
    "- 범주형의 독립변수들이 종속변수의 값들과 상관관계가 있음을 가정하여 동작하는 기법\n",
    "- Label Encoding과 유사하나 label과 target이 직접적으로 연관이 있다는 점이 차이\n",
    "\n",
    "- 장점\n",
    "  - 데이터 셋의 양에 영향을 받지 않아 빠른 학습이 가능\n",
    "- 단점  \n",
    "  - 과적합(Overfitting) 문제에 매우 취약하여 교차검증(Cross Validation)이나 정규화(Regularization) 같은 후속 조치들이 거의 필수적"
   ]
  },
  {
   "cell_type": "code",
   "execution_count": null,
   "metadata": {},
   "outputs": [],
   "source": []
  },
  {
   "cell_type": "code",
   "execution_count": null,
   "metadata": {},
   "outputs": [],
   "source": []
  }
 ],
 "metadata": {
  "kernelspec": {
   "display_name": "lecture",
   "language": "python",
   "name": "python3"
  },
  "language_info": {
   "codemirror_mode": {
    "name": "ipython",
    "version": 3
   },
   "file_extension": ".py",
   "mimetype": "text/x-python",
   "name": "python",
   "nbconvert_exporter": "python",
   "pygments_lexer": "ipython3",
   "version": "3.12.4"
  }
 },
 "nbformat": 4,
 "nbformat_minor": 2
}
