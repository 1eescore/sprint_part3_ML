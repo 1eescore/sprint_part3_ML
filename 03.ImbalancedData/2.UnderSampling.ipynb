{
 "cells": [
  {
   "cell_type": "markdown",
   "metadata": {},
   "source": [
    "## Imbalanced Data란?\n",
    "\n",
    "![](https://velog.velcdn.com/images/newnew_daddy/post/988dbdc4-84d1-4256-b335-55a918846799/image.png)\n",
    "\n",
    "- 한 클래스(보통 다수 클래스)의 샘플 수가 다른 클래스(보통 소수 클래스)의 샘플 수보다 훨씬 많은 데이터 셋.\n",
    "- 이러한 데이터셋으로 모델을 학습시키면 모델이 다수 클래스를 더 많이 예측하게 되어 성능이 떨어질 수 있습니다.\n",
    "- 예를 들어 100개의 데이터 중 A가 97개, B가 3개라면, 모두 정상이라고 예측해도 정확도가 97%가 나옴.\n",
    "- 불균형 데이터 예시\n",
    "  - 물건의 양품/불량품 데이터\n",
    "  - 금융 회사의 이상거래 데이터\n",
    "  - 통신 회사의 고객 유지/이탈 데이터\n",
    "  - 보안 회사의 정상IP/비정상IP 데이터\n",
    "  \n",
    "### 불균형 데이터 대처 방법\n",
    "\n",
    "![](https://velog.velcdn.com/images/newnew_daddy/post/dd9ce5fc-6256-4824-bed3-77d7cf864d99/image.png)\n",
    "\n",
    "- 언더 샘플링(Under Sampling)\n",
    "- 오버 샘플링(Over Sampling)"
   ]
  },
  {
   "cell_type": "markdown",
   "metadata": {},
   "source": [
    "#### 1. 언더 샘플링 (Under Sampling)\n",
    "- 다수 클래스의 샘플 수를 줄여서 클래스 간의 균형을 맞추는 방법.\n",
    "- 소수 클래스와의 비율을 맞추는 샘플링 기법\n",
    "- 장점 : 데이터가 비교적 적게 샘플링되므로 학습 시간을 줄일 수 있다.\n",
    "- 단점 : 데이터 제거로 인해 정보의 손실이 발생하고 모델 학습이 온전히 되지 않을 수 있다.\n",
    "- `imblearn` 라이브러리를 활용하여 실습 가능\n",
    "  - `pip install imblearn`"
   ]
  },
  {
   "cell_type": "markdown",
   "metadata": {},
   "source": [
    "#### 1) Random Sampling\n",
    "- 다수 클래스에서 무작위로 샘플을 제거하여 클래스 간의 균형을 맞추는 방법\n",
    "- imblearn.under_sampling 모듈에서 사용 가능"
   ]
  },
  {
   "cell_type": "code",
   "execution_count": null,
   "metadata": {},
   "outputs": [],
   "source": []
  },
  {
   "cell_type": "code",
   "execution_count": null,
   "metadata": {},
   "outputs": [],
   "source": []
  },
  {
   "cell_type": "markdown",
   "metadata": {},
   "source": [
    "#### 2) Tomek Links\n",
    "\n",
    "![](https://velog.velcdn.com/images/newnew_daddy/post/3c20dd6b-8beb-47b5-aa69-3cbb16183dd5/image.png)\n",
    "\n",
    "- 서로 다른 클래스의 가장 가까운 두 샘플 쌍을 찾고, 다수 클래스의 샘플을 제거하여 클래스 간의 경계를 더 명확히 하는 샘플링 방법"
   ]
  },
  {
   "cell_type": "code",
   "execution_count": null,
   "metadata": {},
   "outputs": [],
   "source": []
  },
  {
   "cell_type": "code",
   "execution_count": null,
   "metadata": {},
   "outputs": [],
   "source": []
  },
  {
   "cell_type": "markdown",
   "metadata": {},
   "source": [
    "#### 3) ClusterCentroids\n",
    "\n",
    "![](https://velog.velcdn.com/images/newnew_daddy/post/6c0e4332-4bca-4924-ba6e-b3bcc1fd2899/image.png)\n",
    "\n",
    "- 군집화 기법을 사용하여 다수 클래스의 데이터를 줄이는 언더샘플링 방법론.\n",
    "- 다수 클래스의 데이터를 클러스터링한 후, 각 클러스터의 중심점을 새로운 샘플로 사용하여 데이터를 줄입니다.\n",
    "- 이를 통해 클래스 간의 불균형을 완화하고 데이터의 분포를 더 균등하게 만듭니다."
   ]
  },
  {
   "cell_type": "code",
   "execution_count": null,
   "metadata": {},
   "outputs": [],
   "source": []
  },
  {
   "cell_type": "code",
   "execution_count": null,
   "metadata": {},
   "outputs": [],
   "source": []
  },
  {
   "cell_type": "markdown",
   "metadata": {},
   "source": [
    "#### 4) CNN Rule (Condensed Nearest Neighbor)\n",
    "- 다수 클래스의 샘플을 제거하여 소수 클래스의 샘플 주위에서 더 명확한 경계를 형성시키는 방법"
   ]
  },
  {
   "cell_type": "code",
   "execution_count": null,
   "metadata": {},
   "outputs": [],
   "source": []
  },
  {
   "cell_type": "code",
   "execution_count": null,
   "metadata": {},
   "outputs": [],
   "source": []
  },
  {
   "cell_type": "markdown",
   "metadata": {},
   "source": [
    "#### 5) One-Sided Selection\n",
    "- Tomek Links와 CNN Rule을 결합하여 다수 클래스 샘플을 더 효율적으로 제거하는 방법"
   ]
  },
  {
   "cell_type": "code",
   "execution_count": null,
   "metadata": {},
   "outputs": [],
   "source": []
  },
  {
   "cell_type": "code",
   "execution_count": null,
   "metadata": {},
   "outputs": [],
   "source": []
  },
  {
   "cell_type": "markdown",
   "metadata": {},
   "source": [
    "#### 언더 샘플링 비교 시각화"
   ]
  },
  {
   "cell_type": "code",
   "execution_count": null,
   "metadata": {},
   "outputs": [],
   "source": []
  },
  {
   "cell_type": "code",
   "execution_count": null,
   "metadata": {},
   "outputs": [],
   "source": []
  }
 ],
 "metadata": {
  "kernelspec": {
   "display_name": "lecture",
   "language": "python",
   "name": "python3"
  },
  "language_info": {
   "codemirror_mode": {
    "name": "ipython",
    "version": 3
   },
   "file_extension": ".py",
   "mimetype": "text/x-python",
   "name": "python",
   "nbconvert_exporter": "python",
   "pygments_lexer": "ipython3",
   "version": "3.12.4"
  }
 },
 "nbformat": 4,
 "nbformat_minor": 2
}
