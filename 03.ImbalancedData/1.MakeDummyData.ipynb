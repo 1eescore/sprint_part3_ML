{
 "cells": [
  {
   "cell_type": "markdown",
   "metadata": {},
   "source": [
    "## Dummy Data 생성\n",
    "- sklearn.dataset 내에 있는 메소드들을 사용하여 모델 종류에 맞는 더미 데이터 생성 가능\n",
    "- 종류\n",
    "\n",
    "    | 메소드                        | 설명                                                                                       |\n",
    "    |------------------------------|--------------------------------------------------------------------------------------------|\n",
    "    | `make_classification`        | 분류 모델을 위한 가상 데이터셋 생성                                                          |\n",
    "    | `make_regression`            | 회귀 모델을 위한 가상 데이터셋 생성                                                          |\n",
    "    | `make_blobs`                 | 분류 모델을 위한 가상 데이터셋 생성                                           |\n",
    "    | `make_moons`                 | 두 개의 반달 모양 데이터를 생성, 이진 분류에 사용                                            |\n",
    "    | `make_circles`               | 두 개의 원형 데이터를 생성, 이진 분류에 사용                                                 |\n",
    "    | `make_multilabel_classification` | 다중 레이블 분류 모델을 위한 가상 데이터셋 생성                                              |\n",
    "    | `make_hastie_10_2`           | Hastie et al.의 10.2 장에 설명된 이진 분류 데이터를 생성                                      |\n",
    "    | `make_friedman1`             | Friedman의 첫 번째 회귀 모델을 위한 데이터셋 생성                                             |\n",
    "    | `make_friedman2`             | Friedman의 두 번째 회귀 모델을 위한 데이터셋 생성                                             |\n",
    "    | `make_friedman3`             | Friedman의 세 번째 회귀 모델을 위한 데이터셋 생성                                             |\n",
    "    | `make_sparse_coded_signal`   | 희소 코딩된 신호 데이터를 생성, 신호 처리에 사용                                              |\n",
    "    | `make_sparse_uncorrelated`   | 희소 독립 변수로 구성된 데이터셋 생성                                                        |\n",
    "    | `make_spd_matrix`            | 양의 정부호 행렬(positive-definite matrix) 생성                                              |\n",
    "    | `make_low_rank_matrix`       | 낮은 계수의 행렬 생성                                                                        |\n",
    "    | `make_swiss_roll`            | 3D 스위스 롤 형태의 데이터를 생성, 비선형 차원 축소에 사용                                    |\n",
    "    | `make_s_curve`               | 3D S 곡선 형태의 데이터를 생성, 비선형 차원 축소에 사용                                       |\n",
    "    | `make_biclusters`            | 바이클러스터 데이터셋 생성                                                                   |\n",
    "    | `make_checkerboard`          | 격자 형태의 데이터셋 생성                                                   |"
   ]
  },
  {
   "cell_type": "markdown",
   "metadata": {},
   "source": [
    "#### 1. make_classification"
   ]
  },
  {
   "cell_type": "code",
   "execution_count": null,
   "metadata": {},
   "outputs": [],
   "source": []
  },
  {
   "cell_type": "markdown",
   "metadata": {},
   "source": [
    "#### 2. make_regression"
   ]
  },
  {
   "cell_type": "code",
   "execution_count": null,
   "metadata": {},
   "outputs": [],
   "source": []
  },
  {
   "cell_type": "markdown",
   "metadata": {},
   "source": [
    "#### 3. make_blobs"
   ]
  },
  {
   "cell_type": "code",
   "execution_count": null,
   "metadata": {},
   "outputs": [],
   "source": []
  },
  {
   "cell_type": "markdown",
   "metadata": {},
   "source": [
    "#### 4. make_moons"
   ]
  },
  {
   "cell_type": "code",
   "execution_count": null,
   "metadata": {},
   "outputs": [],
   "source": []
  }
 ],
 "metadata": {
  "kernelspec": {
   "display_name": "lecture",
   "language": "python",
   "name": "python3"
  },
  "language_info": {
   "codemirror_mode": {
    "name": "ipython",
    "version": 3
   },
   "file_extension": ".py",
   "mimetype": "text/x-python",
   "name": "python",
   "nbconvert_exporter": "python",
   "pygments_lexer": "ipython3",
   "version": "3.12.4"
  }
 },
 "nbformat": 4,
 "nbformat_minor": 2
}
