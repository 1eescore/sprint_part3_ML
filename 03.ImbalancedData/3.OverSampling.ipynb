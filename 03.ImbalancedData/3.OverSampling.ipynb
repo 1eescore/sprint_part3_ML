{
 "cells": [
  {
   "cell_type": "markdown",
   "metadata": {},
   "source": [
    "#### 오버 샘플링 (Over Sampling)\n",
    "- 소수 클래스의 샘플 수를 증가시켜 클래스 간의 균형을 맞추는 방법.\n",
    "- 다수 클래스와의 비율을 맞추기 위해 소수 클래스 샘플을 복제하거나 생성하는 샘플링 기법\n",
    "- 장점 : 모든 데이터를 유지하면서 클래스 불균형 문제를 해결할 수 있다.\n",
    "- 단점 : 소수 클래스의 샘플을 반복해서 사용하므로 과적합(overfitting) 문제를 유발할 수 있다. 또한, 학습 시간이 길어질 수 있다."
   ]
  },
  {
   "cell_type": "markdown",
   "metadata": {},
   "source": [
    "#### 1) RandomOverSampler\n",
    "- 소수 클래스의 데이터를 무작위로 복제하여 데이터셋의 클래스 불균형을 해결. \n",
    "- 소수 클래스의 데이터를 단순히 반복하여 복사하므로 구현이 간단하고 빠르지만, 데이터의 다양성이 부족해질 수 있음\n"
   ]
  },
  {
   "cell_type": "code",
   "execution_count": null,
   "metadata": {},
   "outputs": [],
   "source": []
  },
  {
   "cell_type": "code",
   "execution_count": null,
   "metadata": {},
   "outputs": [],
   "source": []
  },
  {
   "cell_type": "markdown",
   "metadata": {},
   "source": [
    "#### 2) SMOTE (Synthetic Minority Over-sampling Technique)\n",
    "- 소수 클래스의 데이터 포인트들 사이에서 새로운 합성 샘플을 생성하는 오버샘플링 기법\n",
    "- 기존 소수 클래스 데이터 포인트들 간의 선형 보간을 통해 새로운 데이터 포인트를 생성함으로써 클래스 간의 균형을 맞춤\n",
    "- 이 방법은 임의의 소수 클래스 샘플과 그 이웃 샘플을 선택하고, 두 샘플 사이의 선형 보간을 통해 새로운 샘플을 생성\n",
    "- 장점 : 단순 복제 대신 합성 샘플을 생성하여 데이터 다양성을 증가시키고 과적합 문제를 완화\n",
    "- 단점 : 데이터의 경계를 명확히 하지 않아 경계 근처의 샘플 생성 시 성능이 떨어질 수 있음\n",
    "\n",
    "    #### SMOTE의 작동 원리\n",
    "    \n",
    "    <img src=\"https://velog.velcdn.com/images/newnew_daddy/post/ac7e0965-b869-413b-8a5f-8acb2ab7aee5/image.png\" width=60%>\n",
    "\n",
    "    - 오버샘플링 기법 중 합성데이터를 생성하는 방식\n",
    "    - 소수 클래스에서 무작위로 k포인트를 선택\n",
    "    - 랜덤 데이터와 k개의 최근접 이웃 간의 유클리디안 거리를 계산 (k-nearest neighbors를 계산)\n",
    "    - 거리를 0과 1 사이의 랜덤한 수로 곱한 다음 합성 샘플로 소수 클래스에 결과를 추가.\n",
    "    - 합성 포인트는 선택한 포인트와 인접 포인트 사이에 추가.\n",
    "    - 소수클래스의 원하는 비율이 충족될 때까지 반복."
   ]
  },
  {
   "cell_type": "code",
   "execution_count": null,
   "metadata": {},
   "outputs": [],
   "source": []
  },
  {
   "cell_type": "code",
   "execution_count": null,
   "metadata": {},
   "outputs": [],
   "source": []
  },
  {
   "cell_type": "markdown",
   "metadata": {},
   "source": [
    "#### 3) ADASYN (Adaptive Synthetic Sampling)\n",
    "- 소수 클래스의 데이터 포인트 주변에서 새로운 합성 샘플을 생성하는 오버샘플링 기법\n",
    "- 이 방법은 소수 클래스의 데이터 포인트 중에서 주위에 다수 클래스의 데이터 포인트가 많은 경우, 즉 경계선 근처에 있는 데이터 포인트를 중심으로 새로운 샘플을 생성.\n",
    "\n",
    "    #### ADASYN의 작동 원리\n",
    "\n",
    "    <img src=\"https://velog.velcdn.com/images/newnew_daddy/post/71908f2f-2d0d-44ab-9ea3-722b32d8e644/image.png\" width=60%>\n",
    "\n",
    "    1. **임의 샘플 생성**: 소수 클래스 데이터의 각 샘플에 대해 k-최근접 이웃(k-nearest neighbors)을 계산합니다.\n",
    "    2. **가중치 할당**: 각 소수 클래스 샘플에 가중치를 부여합니다. 경계에 가까운 샘플일수록 더 많은 샘플을 생성합니다.\n",
    "    3. **합성 샘플 생성**: 가중치에 따라 소수 클래스의 샘플 주변에서 새로운 합성 샘플을 생성합니다."
   ]
  },
  {
   "cell_type": "code",
   "execution_count": null,
   "metadata": {},
   "outputs": [],
   "source": []
  },
  {
   "cell_type": "code",
   "execution_count": null,
   "metadata": {},
   "outputs": [],
   "source": []
  },
  {
   "cell_type": "markdown",
   "metadata": {},
   "source": [
    "#### 오버 샘플링 비교 시각화"
   ]
  },
  {
   "cell_type": "code",
   "execution_count": null,
   "metadata": {},
   "outputs": [],
   "source": []
  },
  {
   "cell_type": "code",
   "execution_count": null,
   "metadata": {},
   "outputs": [],
   "source": []
  }
 ],
 "metadata": {
  "kernelspec": {
   "display_name": "lecture",
   "language": "python",
   "name": "python3"
  },
  "language_info": {
   "codemirror_mode": {
    "name": "ipython",
    "version": 3
   },
   "file_extension": ".py",
   "mimetype": "text/x-python",
   "name": "python",
   "nbconvert_exporter": "python",
   "pygments_lexer": "ipython3",
   "version": "3.12.4"
  }
 },
 "nbformat": 4,
 "nbformat_minor": 2
}
